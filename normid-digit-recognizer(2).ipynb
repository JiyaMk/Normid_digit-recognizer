{
 "cells": [
  {
   "cell_type": "code",
   "execution_count": 1,
   "id": "1624bdad",
   "metadata": {
    "execution": {
     "iopub.execute_input": "2023-03-25T18:54:00.507925Z",
     "iopub.status.busy": "2023-03-25T18:54:00.506884Z",
     "iopub.status.idle": "2023-03-25T18:54:00.516381Z",
     "shell.execute_reply": "2023-03-25T18:54:00.515542Z"
    },
    "papermill": {
     "duration": 0.023914,
     "end_time": "2023-03-25T18:54:00.518404",
     "exception": false,
     "start_time": "2023-03-25T18:54:00.494490",
     "status": "completed"
    },
    "tags": []
   },
   "outputs": [],
   "source": [
    "import numpy as np # linear algebra\n",
    "import pandas as pd # data processing, CSV file I/O (e.g. pd.read_csv)"
   ]
  },
  {
   "cell_type": "code",
   "execution_count": 2,
   "id": "99e82941",
   "metadata": {
    "execution": {
     "iopub.execute_input": "2023-03-25T18:54:00.537292Z",
     "iopub.status.busy": "2023-03-25T18:54:00.536575Z",
     "iopub.status.idle": "2023-03-25T18:54:00.543424Z",
     "shell.execute_reply": "2023-03-25T18:54:00.542510Z"
    },
    "papermill": {
     "duration": 0.018928,
     "end_time": "2023-03-25T18:54:00.545866",
     "exception": false,
     "start_time": "2023-03-25T18:54:00.526938",
     "status": "completed"
    },
    "tags": []
   },
   "outputs": [
    {
     "name": "stdout",
     "output_type": "stream",
     "text": [
      "/kaggle/input/digit-recognizer/sample_submission.csv\n",
      "/kaggle/input/digit-recognizer/train.csv\n",
      "/kaggle/input/digit-recognizer/test.csv\n"
     ]
    }
   ],
   "source": [
    "import os\n",
    "for dirname, _, filenames in os.walk('/kaggle/input'):\n",
    "    for filename in filenames:   #extracting the file names from the filenames list, \n",
    "        print(os.path.join(dirname, filename))           #and printing the full path of each file by concatenating the dirname and filename using os.path.join() function."
   ]
  },
  {
   "cell_type": "code",
   "execution_count": 3,
   "id": "321d77c4",
   "metadata": {
    "execution": {
     "iopub.execute_input": "2023-03-25T18:54:00.565283Z",
     "iopub.status.busy": "2023-03-25T18:54:00.564591Z",
     "iopub.status.idle": "2023-03-25T18:54:05.833798Z",
     "shell.execute_reply": "2023-03-25T18:54:05.832786Z"
    },
    "papermill": {
     "duration": 5.281629,
     "end_time": "2023-03-25T18:54:05.836298",
     "exception": false,
     "start_time": "2023-03-25T18:54:00.554669",
     "status": "completed"
    },
    "tags": []
   },
   "outputs": [],
   "source": [
    "import matplotlib.pyplot as plt   # importing the necessary libraries matplotlib.pyplot,seaborn \n",
    "import seaborn as sns             \n",
    "%matplotlib inline \n",
    "train=pd.read_csv('/kaggle/input/digit-recognizer/train.csv')    # loading the train.csv and test.csv files from the digit-recognizer dataset stored in the Kaggle input directory \n",
    "test=pd.read_csv('/kaggle/input/digit-recognizer/test.csv')      #into pandas dataframes named train and test, respectively. "
   ]
  },
  {
   "cell_type": "code",
   "execution_count": 4,
   "id": "7f02c02b",
   "metadata": {
    "execution": {
     "iopub.execute_input": "2023-03-25T18:54:05.859326Z",
     "iopub.status.busy": "2023-03-25T18:54:05.858868Z",
     "iopub.status.idle": "2023-03-25T18:54:05.864566Z",
     "shell.execute_reply": "2023-03-25T18:54:05.862920Z"
    },
    "papermill": {
     "duration": 0.02042,
     "end_time": "2023-03-25T18:54:05.866977",
     "exception": false,
     "start_time": "2023-03-25T18:54:05.846557",
     "status": "completed"
    },
    "tags": []
   },
   "outputs": [
    {
     "name": "stdout",
     "output_type": "stream",
     "text": [
      "(42000, 785)\n",
      "(28000, 784)\n"
     ]
    }
   ],
   "source": [
    "print(train.shape)\n",
    "print(test.shape)"
   ]
  },
  {
   "cell_type": "code",
   "execution_count": 5,
   "id": "05bbbe73",
   "metadata": {
    "execution": {
     "iopub.execute_input": "2023-03-25T18:54:05.886141Z",
     "iopub.status.busy": "2023-03-25T18:54:05.885777Z",
     "iopub.status.idle": "2023-03-25T18:54:05.917442Z",
     "shell.execute_reply": "2023-03-25T18:54:05.916557Z"
    },
    "papermill": {
     "duration": 0.043008,
     "end_time": "2023-03-25T18:54:05.919347",
     "exception": false,
     "start_time": "2023-03-25T18:54:05.876339",
     "status": "completed"
    },
    "tags": []
   },
   "outputs": [
    {
     "data": {
      "text/html": [
       "<div>\n",
       "<style scoped>\n",
       "    .dataframe tbody tr th:only-of-type {\n",
       "        vertical-align: middle;\n",
       "    }\n",
       "\n",
       "    .dataframe tbody tr th {\n",
       "        vertical-align: top;\n",
       "    }\n",
       "\n",
       "    .dataframe thead th {\n",
       "        text-align: right;\n",
       "    }\n",
       "</style>\n",
       "<table border=\"1\" class=\"dataframe\">\n",
       "  <thead>\n",
       "    <tr style=\"text-align: right;\">\n",
       "      <th></th>\n",
       "      <th>label</th>\n",
       "      <th>pixel0</th>\n",
       "      <th>pixel1</th>\n",
       "      <th>pixel2</th>\n",
       "      <th>pixel3</th>\n",
       "      <th>pixel4</th>\n",
       "      <th>pixel5</th>\n",
       "      <th>pixel6</th>\n",
       "      <th>pixel7</th>\n",
       "      <th>pixel8</th>\n",
       "      <th>...</th>\n",
       "      <th>pixel774</th>\n",
       "      <th>pixel775</th>\n",
       "      <th>pixel776</th>\n",
       "      <th>pixel777</th>\n",
       "      <th>pixel778</th>\n",
       "      <th>pixel779</th>\n",
       "      <th>pixel780</th>\n",
       "      <th>pixel781</th>\n",
       "      <th>pixel782</th>\n",
       "      <th>pixel783</th>\n",
       "    </tr>\n",
       "  </thead>\n",
       "  <tbody>\n",
       "    <tr>\n",
       "      <th>0</th>\n",
       "      <td>1</td>\n",
       "      <td>0</td>\n",
       "      <td>0</td>\n",
       "      <td>0</td>\n",
       "      <td>0</td>\n",
       "      <td>0</td>\n",
       "      <td>0</td>\n",
       "      <td>0</td>\n",
       "      <td>0</td>\n",
       "      <td>0</td>\n",
       "      <td>...</td>\n",
       "      <td>0</td>\n",
       "      <td>0</td>\n",
       "      <td>0</td>\n",
       "      <td>0</td>\n",
       "      <td>0</td>\n",
       "      <td>0</td>\n",
       "      <td>0</td>\n",
       "      <td>0</td>\n",
       "      <td>0</td>\n",
       "      <td>0</td>\n",
       "    </tr>\n",
       "    <tr>\n",
       "      <th>1</th>\n",
       "      <td>0</td>\n",
       "      <td>0</td>\n",
       "      <td>0</td>\n",
       "      <td>0</td>\n",
       "      <td>0</td>\n",
       "      <td>0</td>\n",
       "      <td>0</td>\n",
       "      <td>0</td>\n",
       "      <td>0</td>\n",
       "      <td>0</td>\n",
       "      <td>...</td>\n",
       "      <td>0</td>\n",
       "      <td>0</td>\n",
       "      <td>0</td>\n",
       "      <td>0</td>\n",
       "      <td>0</td>\n",
       "      <td>0</td>\n",
       "      <td>0</td>\n",
       "      <td>0</td>\n",
       "      <td>0</td>\n",
       "      <td>0</td>\n",
       "    </tr>\n",
       "    <tr>\n",
       "      <th>2</th>\n",
       "      <td>1</td>\n",
       "      <td>0</td>\n",
       "      <td>0</td>\n",
       "      <td>0</td>\n",
       "      <td>0</td>\n",
       "      <td>0</td>\n",
       "      <td>0</td>\n",
       "      <td>0</td>\n",
       "      <td>0</td>\n",
       "      <td>0</td>\n",
       "      <td>...</td>\n",
       "      <td>0</td>\n",
       "      <td>0</td>\n",
       "      <td>0</td>\n",
       "      <td>0</td>\n",
       "      <td>0</td>\n",
       "      <td>0</td>\n",
       "      <td>0</td>\n",
       "      <td>0</td>\n",
       "      <td>0</td>\n",
       "      <td>0</td>\n",
       "    </tr>\n",
       "    <tr>\n",
       "      <th>3</th>\n",
       "      <td>4</td>\n",
       "      <td>0</td>\n",
       "      <td>0</td>\n",
       "      <td>0</td>\n",
       "      <td>0</td>\n",
       "      <td>0</td>\n",
       "      <td>0</td>\n",
       "      <td>0</td>\n",
       "      <td>0</td>\n",
       "      <td>0</td>\n",
       "      <td>...</td>\n",
       "      <td>0</td>\n",
       "      <td>0</td>\n",
       "      <td>0</td>\n",
       "      <td>0</td>\n",
       "      <td>0</td>\n",
       "      <td>0</td>\n",
       "      <td>0</td>\n",
       "      <td>0</td>\n",
       "      <td>0</td>\n",
       "      <td>0</td>\n",
       "    </tr>\n",
       "    <tr>\n",
       "      <th>4</th>\n",
       "      <td>0</td>\n",
       "      <td>0</td>\n",
       "      <td>0</td>\n",
       "      <td>0</td>\n",
       "      <td>0</td>\n",
       "      <td>0</td>\n",
       "      <td>0</td>\n",
       "      <td>0</td>\n",
       "      <td>0</td>\n",
       "      <td>0</td>\n",
       "      <td>...</td>\n",
       "      <td>0</td>\n",
       "      <td>0</td>\n",
       "      <td>0</td>\n",
       "      <td>0</td>\n",
       "      <td>0</td>\n",
       "      <td>0</td>\n",
       "      <td>0</td>\n",
       "      <td>0</td>\n",
       "      <td>0</td>\n",
       "      <td>0</td>\n",
       "    </tr>\n",
       "  </tbody>\n",
       "</table>\n",
       "<p>5 rows × 785 columns</p>\n",
       "</div>"
      ],
      "text/plain": [
       "   label  pixel0  pixel1  pixel2  pixel3  pixel4  pixel5  pixel6  pixel7  \\\n",
       "0      1       0       0       0       0       0       0       0       0   \n",
       "1      0       0       0       0       0       0       0       0       0   \n",
       "2      1       0       0       0       0       0       0       0       0   \n",
       "3      4       0       0       0       0       0       0       0       0   \n",
       "4      0       0       0       0       0       0       0       0       0   \n",
       "\n",
       "   pixel8  ...  pixel774  pixel775  pixel776  pixel777  pixel778  pixel779  \\\n",
       "0       0  ...         0         0         0         0         0         0   \n",
       "1       0  ...         0         0         0         0         0         0   \n",
       "2       0  ...         0         0         0         0         0         0   \n",
       "3       0  ...         0         0         0         0         0         0   \n",
       "4       0  ...         0         0         0         0         0         0   \n",
       "\n",
       "   pixel780  pixel781  pixel782  pixel783  \n",
       "0         0         0         0         0  \n",
       "1         0         0         0         0  \n",
       "2         0         0         0         0  \n",
       "3         0         0         0         0  \n",
       "4         0         0         0         0  \n",
       "\n",
       "[5 rows x 785 columns]"
      ]
     },
     "execution_count": 5,
     "metadata": {},
     "output_type": "execute_result"
    }
   ],
   "source": [
    "train.head()\n",
    "# by default pd.head() displays only 5 rows"
   ]
  },
  {
   "cell_type": "code",
   "execution_count": 6,
   "id": "7ecb2ced",
   "metadata": {
    "execution": {
     "iopub.execute_input": "2023-03-25T18:54:05.938529Z",
     "iopub.status.busy": "2023-03-25T18:54:05.938125Z",
     "iopub.status.idle": "2023-03-25T18:54:05.955344Z",
     "shell.execute_reply": "2023-03-25T18:54:05.954392Z"
    },
    "papermill": {
     "duration": 0.029256,
     "end_time": "2023-03-25T18:54:05.957354",
     "exception": false,
     "start_time": "2023-03-25T18:54:05.928098",
     "status": "completed"
    },
    "tags": []
   },
   "outputs": [
    {
     "data": {
      "text/html": [
       "<div>\n",
       "<style scoped>\n",
       "    .dataframe tbody tr th:only-of-type {\n",
       "        vertical-align: middle;\n",
       "    }\n",
       "\n",
       "    .dataframe tbody tr th {\n",
       "        vertical-align: top;\n",
       "    }\n",
       "\n",
       "    .dataframe thead th {\n",
       "        text-align: right;\n",
       "    }\n",
       "</style>\n",
       "<table border=\"1\" class=\"dataframe\">\n",
       "  <thead>\n",
       "    <tr style=\"text-align: right;\">\n",
       "      <th></th>\n",
       "      <th>label</th>\n",
       "      <th>pixel0</th>\n",
       "      <th>pixel1</th>\n",
       "      <th>pixel2</th>\n",
       "      <th>pixel3</th>\n",
       "      <th>pixel4</th>\n",
       "      <th>pixel5</th>\n",
       "      <th>pixel6</th>\n",
       "      <th>pixel7</th>\n",
       "      <th>pixel8</th>\n",
       "      <th>...</th>\n",
       "      <th>pixel774</th>\n",
       "      <th>pixel775</th>\n",
       "      <th>pixel776</th>\n",
       "      <th>pixel777</th>\n",
       "      <th>pixel778</th>\n",
       "      <th>pixel779</th>\n",
       "      <th>pixel780</th>\n",
       "      <th>pixel781</th>\n",
       "      <th>pixel782</th>\n",
       "      <th>pixel783</th>\n",
       "    </tr>\n",
       "  </thead>\n",
       "  <tbody>\n",
       "    <tr>\n",
       "      <th>0</th>\n",
       "      <td>1</td>\n",
       "      <td>0</td>\n",
       "      <td>0</td>\n",
       "      <td>0</td>\n",
       "      <td>0</td>\n",
       "      <td>0</td>\n",
       "      <td>0</td>\n",
       "      <td>0</td>\n",
       "      <td>0</td>\n",
       "      <td>0</td>\n",
       "      <td>...</td>\n",
       "      <td>0</td>\n",
       "      <td>0</td>\n",
       "      <td>0</td>\n",
       "      <td>0</td>\n",
       "      <td>0</td>\n",
       "      <td>0</td>\n",
       "      <td>0</td>\n",
       "      <td>0</td>\n",
       "      <td>0</td>\n",
       "      <td>0</td>\n",
       "    </tr>\n",
       "    <tr>\n",
       "      <th>1</th>\n",
       "      <td>0</td>\n",
       "      <td>0</td>\n",
       "      <td>0</td>\n",
       "      <td>0</td>\n",
       "      <td>0</td>\n",
       "      <td>0</td>\n",
       "      <td>0</td>\n",
       "      <td>0</td>\n",
       "      <td>0</td>\n",
       "      <td>0</td>\n",
       "      <td>...</td>\n",
       "      <td>0</td>\n",
       "      <td>0</td>\n",
       "      <td>0</td>\n",
       "      <td>0</td>\n",
       "      <td>0</td>\n",
       "      <td>0</td>\n",
       "      <td>0</td>\n",
       "      <td>0</td>\n",
       "      <td>0</td>\n",
       "      <td>0</td>\n",
       "    </tr>\n",
       "    <tr>\n",
       "      <th>2</th>\n",
       "      <td>1</td>\n",
       "      <td>0</td>\n",
       "      <td>0</td>\n",
       "      <td>0</td>\n",
       "      <td>0</td>\n",
       "      <td>0</td>\n",
       "      <td>0</td>\n",
       "      <td>0</td>\n",
       "      <td>0</td>\n",
       "      <td>0</td>\n",
       "      <td>...</td>\n",
       "      <td>0</td>\n",
       "      <td>0</td>\n",
       "      <td>0</td>\n",
       "      <td>0</td>\n",
       "      <td>0</td>\n",
       "      <td>0</td>\n",
       "      <td>0</td>\n",
       "      <td>0</td>\n",
       "      <td>0</td>\n",
       "      <td>0</td>\n",
       "    </tr>\n",
       "    <tr>\n",
       "      <th>3</th>\n",
       "      <td>4</td>\n",
       "      <td>0</td>\n",
       "      <td>0</td>\n",
       "      <td>0</td>\n",
       "      <td>0</td>\n",
       "      <td>0</td>\n",
       "      <td>0</td>\n",
       "      <td>0</td>\n",
       "      <td>0</td>\n",
       "      <td>0</td>\n",
       "      <td>...</td>\n",
       "      <td>0</td>\n",
       "      <td>0</td>\n",
       "      <td>0</td>\n",
       "      <td>0</td>\n",
       "      <td>0</td>\n",
       "      <td>0</td>\n",
       "      <td>0</td>\n",
       "      <td>0</td>\n",
       "      <td>0</td>\n",
       "      <td>0</td>\n",
       "    </tr>\n",
       "    <tr>\n",
       "      <th>4</th>\n",
       "      <td>0</td>\n",
       "      <td>0</td>\n",
       "      <td>0</td>\n",
       "      <td>0</td>\n",
       "      <td>0</td>\n",
       "      <td>0</td>\n",
       "      <td>0</td>\n",
       "      <td>0</td>\n",
       "      <td>0</td>\n",
       "      <td>0</td>\n",
       "      <td>...</td>\n",
       "      <td>0</td>\n",
       "      <td>0</td>\n",
       "      <td>0</td>\n",
       "      <td>0</td>\n",
       "      <td>0</td>\n",
       "      <td>0</td>\n",
       "      <td>0</td>\n",
       "      <td>0</td>\n",
       "      <td>0</td>\n",
       "      <td>0</td>\n",
       "    </tr>\n",
       "    <tr>\n",
       "      <th>5</th>\n",
       "      <td>0</td>\n",
       "      <td>0</td>\n",
       "      <td>0</td>\n",
       "      <td>0</td>\n",
       "      <td>0</td>\n",
       "      <td>0</td>\n",
       "      <td>0</td>\n",
       "      <td>0</td>\n",
       "      <td>0</td>\n",
       "      <td>0</td>\n",
       "      <td>...</td>\n",
       "      <td>0</td>\n",
       "      <td>0</td>\n",
       "      <td>0</td>\n",
       "      <td>0</td>\n",
       "      <td>0</td>\n",
       "      <td>0</td>\n",
       "      <td>0</td>\n",
       "      <td>0</td>\n",
       "      <td>0</td>\n",
       "      <td>0</td>\n",
       "    </tr>\n",
       "    <tr>\n",
       "      <th>6</th>\n",
       "      <td>7</td>\n",
       "      <td>0</td>\n",
       "      <td>0</td>\n",
       "      <td>0</td>\n",
       "      <td>0</td>\n",
       "      <td>0</td>\n",
       "      <td>0</td>\n",
       "      <td>0</td>\n",
       "      <td>0</td>\n",
       "      <td>0</td>\n",
       "      <td>...</td>\n",
       "      <td>0</td>\n",
       "      <td>0</td>\n",
       "      <td>0</td>\n",
       "      <td>0</td>\n",
       "      <td>0</td>\n",
       "      <td>0</td>\n",
       "      <td>0</td>\n",
       "      <td>0</td>\n",
       "      <td>0</td>\n",
       "      <td>0</td>\n",
       "    </tr>\n",
       "    <tr>\n",
       "      <th>7</th>\n",
       "      <td>3</td>\n",
       "      <td>0</td>\n",
       "      <td>0</td>\n",
       "      <td>0</td>\n",
       "      <td>0</td>\n",
       "      <td>0</td>\n",
       "      <td>0</td>\n",
       "      <td>0</td>\n",
       "      <td>0</td>\n",
       "      <td>0</td>\n",
       "      <td>...</td>\n",
       "      <td>0</td>\n",
       "      <td>0</td>\n",
       "      <td>0</td>\n",
       "      <td>0</td>\n",
       "      <td>0</td>\n",
       "      <td>0</td>\n",
       "      <td>0</td>\n",
       "      <td>0</td>\n",
       "      <td>0</td>\n",
       "      <td>0</td>\n",
       "    </tr>\n",
       "    <tr>\n",
       "      <th>8</th>\n",
       "      <td>5</td>\n",
       "      <td>0</td>\n",
       "      <td>0</td>\n",
       "      <td>0</td>\n",
       "      <td>0</td>\n",
       "      <td>0</td>\n",
       "      <td>0</td>\n",
       "      <td>0</td>\n",
       "      <td>0</td>\n",
       "      <td>0</td>\n",
       "      <td>...</td>\n",
       "      <td>0</td>\n",
       "      <td>0</td>\n",
       "      <td>0</td>\n",
       "      <td>0</td>\n",
       "      <td>0</td>\n",
       "      <td>0</td>\n",
       "      <td>0</td>\n",
       "      <td>0</td>\n",
       "      <td>0</td>\n",
       "      <td>0</td>\n",
       "    </tr>\n",
       "    <tr>\n",
       "      <th>9</th>\n",
       "      <td>3</td>\n",
       "      <td>0</td>\n",
       "      <td>0</td>\n",
       "      <td>0</td>\n",
       "      <td>0</td>\n",
       "      <td>0</td>\n",
       "      <td>0</td>\n",
       "      <td>0</td>\n",
       "      <td>0</td>\n",
       "      <td>0</td>\n",
       "      <td>...</td>\n",
       "      <td>0</td>\n",
       "      <td>0</td>\n",
       "      <td>0</td>\n",
       "      <td>0</td>\n",
       "      <td>0</td>\n",
       "      <td>0</td>\n",
       "      <td>0</td>\n",
       "      <td>0</td>\n",
       "      <td>0</td>\n",
       "      <td>0</td>\n",
       "    </tr>\n",
       "  </tbody>\n",
       "</table>\n",
       "<p>10 rows × 785 columns</p>\n",
       "</div>"
      ],
      "text/plain": [
       "   label  pixel0  pixel1  pixel2  pixel3  pixel4  pixel5  pixel6  pixel7  \\\n",
       "0      1       0       0       0       0       0       0       0       0   \n",
       "1      0       0       0       0       0       0       0       0       0   \n",
       "2      1       0       0       0       0       0       0       0       0   \n",
       "3      4       0       0       0       0       0       0       0       0   \n",
       "4      0       0       0       0       0       0       0       0       0   \n",
       "5      0       0       0       0       0       0       0       0       0   \n",
       "6      7       0       0       0       0       0       0       0       0   \n",
       "7      3       0       0       0       0       0       0       0       0   \n",
       "8      5       0       0       0       0       0       0       0       0   \n",
       "9      3       0       0       0       0       0       0       0       0   \n",
       "\n",
       "   pixel8  ...  pixel774  pixel775  pixel776  pixel777  pixel778  pixel779  \\\n",
       "0       0  ...         0         0         0         0         0         0   \n",
       "1       0  ...         0         0         0         0         0         0   \n",
       "2       0  ...         0         0         0         0         0         0   \n",
       "3       0  ...         0         0         0         0         0         0   \n",
       "4       0  ...         0         0         0         0         0         0   \n",
       "5       0  ...         0         0         0         0         0         0   \n",
       "6       0  ...         0         0         0         0         0         0   \n",
       "7       0  ...         0         0         0         0         0         0   \n",
       "8       0  ...         0         0         0         0         0         0   \n",
       "9       0  ...         0         0         0         0         0         0   \n",
       "\n",
       "   pixel780  pixel781  pixel782  pixel783  \n",
       "0         0         0         0         0  \n",
       "1         0         0         0         0  \n",
       "2         0         0         0         0  \n",
       "3         0         0         0         0  \n",
       "4         0         0         0         0  \n",
       "5         0         0         0         0  \n",
       "6         0         0         0         0  \n",
       "7         0         0         0         0  \n",
       "8         0         0         0         0  \n",
       "9         0         0         0         0  \n",
       "\n",
       "[10 rows x 785 columns]"
      ]
     },
     "execution_count": 6,
     "metadata": {},
     "output_type": "execute_result"
    }
   ],
   "source": [
    "# printing more rows to view the data\n",
    "train.head(10)\n",
    "# label shows the digit present at a particular index in the dataset"
   ]
  },
  {
   "cell_type": "code",
   "execution_count": 7,
   "id": "e7d49100",
   "metadata": {
    "execution": {
     "iopub.execute_input": "2023-03-25T18:54:05.977402Z",
     "iopub.status.busy": "2023-03-25T18:54:05.977043Z",
     "iopub.status.idle": "2023-03-25T18:54:05.992187Z",
     "shell.execute_reply": "2023-03-25T18:54:05.991451Z"
    },
    "papermill": {
     "duration": 0.027265,
     "end_time": "2023-03-25T18:54:05.993979",
     "exception": false,
     "start_time": "2023-03-25T18:54:05.966714",
     "status": "completed"
    },
    "tags": []
   },
   "outputs": [
    {
     "data": {
      "text/html": [
       "<div>\n",
       "<style scoped>\n",
       "    .dataframe tbody tr th:only-of-type {\n",
       "        vertical-align: middle;\n",
       "    }\n",
       "\n",
       "    .dataframe tbody tr th {\n",
       "        vertical-align: top;\n",
       "    }\n",
       "\n",
       "    .dataframe thead th {\n",
       "        text-align: right;\n",
       "    }\n",
       "</style>\n",
       "<table border=\"1\" class=\"dataframe\">\n",
       "  <thead>\n",
       "    <tr style=\"text-align: right;\">\n",
       "      <th></th>\n",
       "      <th>pixel0</th>\n",
       "      <th>pixel1</th>\n",
       "      <th>pixel2</th>\n",
       "      <th>pixel3</th>\n",
       "      <th>pixel4</th>\n",
       "      <th>pixel5</th>\n",
       "      <th>pixel6</th>\n",
       "      <th>pixel7</th>\n",
       "      <th>pixel8</th>\n",
       "      <th>pixel9</th>\n",
       "      <th>...</th>\n",
       "      <th>pixel774</th>\n",
       "      <th>pixel775</th>\n",
       "      <th>pixel776</th>\n",
       "      <th>pixel777</th>\n",
       "      <th>pixel778</th>\n",
       "      <th>pixel779</th>\n",
       "      <th>pixel780</th>\n",
       "      <th>pixel781</th>\n",
       "      <th>pixel782</th>\n",
       "      <th>pixel783</th>\n",
       "    </tr>\n",
       "  </thead>\n",
       "  <tbody>\n",
       "    <tr>\n",
       "      <th>0</th>\n",
       "      <td>0</td>\n",
       "      <td>0</td>\n",
       "      <td>0</td>\n",
       "      <td>0</td>\n",
       "      <td>0</td>\n",
       "      <td>0</td>\n",
       "      <td>0</td>\n",
       "      <td>0</td>\n",
       "      <td>0</td>\n",
       "      <td>0</td>\n",
       "      <td>...</td>\n",
       "      <td>0</td>\n",
       "      <td>0</td>\n",
       "      <td>0</td>\n",
       "      <td>0</td>\n",
       "      <td>0</td>\n",
       "      <td>0</td>\n",
       "      <td>0</td>\n",
       "      <td>0</td>\n",
       "      <td>0</td>\n",
       "      <td>0</td>\n",
       "    </tr>\n",
       "    <tr>\n",
       "      <th>1</th>\n",
       "      <td>0</td>\n",
       "      <td>0</td>\n",
       "      <td>0</td>\n",
       "      <td>0</td>\n",
       "      <td>0</td>\n",
       "      <td>0</td>\n",
       "      <td>0</td>\n",
       "      <td>0</td>\n",
       "      <td>0</td>\n",
       "      <td>0</td>\n",
       "      <td>...</td>\n",
       "      <td>0</td>\n",
       "      <td>0</td>\n",
       "      <td>0</td>\n",
       "      <td>0</td>\n",
       "      <td>0</td>\n",
       "      <td>0</td>\n",
       "      <td>0</td>\n",
       "      <td>0</td>\n",
       "      <td>0</td>\n",
       "      <td>0</td>\n",
       "    </tr>\n",
       "    <tr>\n",
       "      <th>2</th>\n",
       "      <td>0</td>\n",
       "      <td>0</td>\n",
       "      <td>0</td>\n",
       "      <td>0</td>\n",
       "      <td>0</td>\n",
       "      <td>0</td>\n",
       "      <td>0</td>\n",
       "      <td>0</td>\n",
       "      <td>0</td>\n",
       "      <td>0</td>\n",
       "      <td>...</td>\n",
       "      <td>0</td>\n",
       "      <td>0</td>\n",
       "      <td>0</td>\n",
       "      <td>0</td>\n",
       "      <td>0</td>\n",
       "      <td>0</td>\n",
       "      <td>0</td>\n",
       "      <td>0</td>\n",
       "      <td>0</td>\n",
       "      <td>0</td>\n",
       "    </tr>\n",
       "    <tr>\n",
       "      <th>3</th>\n",
       "      <td>0</td>\n",
       "      <td>0</td>\n",
       "      <td>0</td>\n",
       "      <td>0</td>\n",
       "      <td>0</td>\n",
       "      <td>0</td>\n",
       "      <td>0</td>\n",
       "      <td>0</td>\n",
       "      <td>0</td>\n",
       "      <td>0</td>\n",
       "      <td>...</td>\n",
       "      <td>0</td>\n",
       "      <td>0</td>\n",
       "      <td>0</td>\n",
       "      <td>0</td>\n",
       "      <td>0</td>\n",
       "      <td>0</td>\n",
       "      <td>0</td>\n",
       "      <td>0</td>\n",
       "      <td>0</td>\n",
       "      <td>0</td>\n",
       "    </tr>\n",
       "    <tr>\n",
       "      <th>4</th>\n",
       "      <td>0</td>\n",
       "      <td>0</td>\n",
       "      <td>0</td>\n",
       "      <td>0</td>\n",
       "      <td>0</td>\n",
       "      <td>0</td>\n",
       "      <td>0</td>\n",
       "      <td>0</td>\n",
       "      <td>0</td>\n",
       "      <td>0</td>\n",
       "      <td>...</td>\n",
       "      <td>0</td>\n",
       "      <td>0</td>\n",
       "      <td>0</td>\n",
       "      <td>0</td>\n",
       "      <td>0</td>\n",
       "      <td>0</td>\n",
       "      <td>0</td>\n",
       "      <td>0</td>\n",
       "      <td>0</td>\n",
       "      <td>0</td>\n",
       "    </tr>\n",
       "  </tbody>\n",
       "</table>\n",
       "<p>5 rows × 784 columns</p>\n",
       "</div>"
      ],
      "text/plain": [
       "   pixel0  pixel1  pixel2  pixel3  pixel4  pixel5  pixel6  pixel7  pixel8  \\\n",
       "0       0       0       0       0       0       0       0       0       0   \n",
       "1       0       0       0       0       0       0       0       0       0   \n",
       "2       0       0       0       0       0       0       0       0       0   \n",
       "3       0       0       0       0       0       0       0       0       0   \n",
       "4       0       0       0       0       0       0       0       0       0   \n",
       "\n",
       "   pixel9  ...  pixel774  pixel775  pixel776  pixel777  pixel778  pixel779  \\\n",
       "0       0  ...         0         0         0         0         0         0   \n",
       "1       0  ...         0         0         0         0         0         0   \n",
       "2       0  ...         0         0         0         0         0         0   \n",
       "3       0  ...         0         0         0         0         0         0   \n",
       "4       0  ...         0         0         0         0         0         0   \n",
       "\n",
       "   pixel780  pixel781  pixel782  pixel783  \n",
       "0         0         0         0         0  \n",
       "1         0         0         0         0  \n",
       "2         0         0         0         0  \n",
       "3         0         0         0         0  \n",
       "4         0         0         0         0  \n",
       "\n",
       "[5 rows x 784 columns]"
      ]
     },
     "execution_count": 7,
     "metadata": {},
     "output_type": "execute_result"
    }
   ],
   "source": [
    "test.head() #no label, and that is need to be predicted \n",
    "# This model needs to predict which digit is present at an index in the test.csv dataset"
   ]
  },
  {
   "cell_type": "code",
   "execution_count": 8,
   "id": "91bdfcb5",
   "metadata": {
    "execution": {
     "iopub.execute_input": "2023-03-25T18:54:06.014659Z",
     "iopub.status.busy": "2023-03-25T18:54:06.013976Z",
     "iopub.status.idle": "2023-03-25T18:54:06.114550Z",
     "shell.execute_reply": "2023-03-25T18:54:06.113439Z"
    },
    "papermill": {
     "duration": 0.113522,
     "end_time": "2023-03-25T18:54:06.116947",
     "exception": false,
     "start_time": "2023-03-25T18:54:06.003425",
     "status": "completed"
    },
    "tags": []
   },
   "outputs": [
    {
     "data": {
      "text/plain": [
       "((42000, 784), (42000,), (28000, 784))"
      ]
     },
     "execution_count": 8,
     "metadata": {},
     "output_type": "execute_result"
    }
   ],
   "source": [
    "y_train = train['label'].astype('float32')\n",
    "X_train = train.drop(['label'], axis=1).astype('int32')\n",
    "X_test = test.astype('float32')\n",
    "X_train.shape, y_train.shape, X_test.shape"
   ]
  },
  {
   "cell_type": "code",
   "execution_count": 9,
   "id": "9ab4b725",
   "metadata": {
    "execution": {
     "iopub.execute_input": "2023-03-25T18:54:06.138745Z",
     "iopub.status.busy": "2023-03-25T18:54:06.138371Z",
     "iopub.status.idle": "2023-03-25T18:54:06.153405Z",
     "shell.execute_reply": "2023-03-25T18:54:06.152350Z"
    },
    "papermill": {
     "duration": 0.028389,
     "end_time": "2023-03-25T18:54:06.155384",
     "exception": false,
     "start_time": "2023-03-25T18:54:06.126995",
     "status": "completed"
    },
    "tags": []
   },
   "outputs": [
    {
     "data": {
      "text/html": [
       "<div>\n",
       "<style scoped>\n",
       "    .dataframe tbody tr th:only-of-type {\n",
       "        vertical-align: middle;\n",
       "    }\n",
       "\n",
       "    .dataframe tbody tr th {\n",
       "        vertical-align: top;\n",
       "    }\n",
       "\n",
       "    .dataframe thead th {\n",
       "        text-align: right;\n",
       "    }\n",
       "</style>\n",
       "<table border=\"1\" class=\"dataframe\">\n",
       "  <thead>\n",
       "    <tr style=\"text-align: right;\">\n",
       "      <th></th>\n",
       "      <th>pixel0</th>\n",
       "      <th>pixel1</th>\n",
       "      <th>pixel2</th>\n",
       "      <th>pixel3</th>\n",
       "      <th>pixel4</th>\n",
       "      <th>pixel5</th>\n",
       "      <th>pixel6</th>\n",
       "      <th>pixel7</th>\n",
       "      <th>pixel8</th>\n",
       "      <th>pixel9</th>\n",
       "      <th>...</th>\n",
       "      <th>pixel774</th>\n",
       "      <th>pixel775</th>\n",
       "      <th>pixel776</th>\n",
       "      <th>pixel777</th>\n",
       "      <th>pixel778</th>\n",
       "      <th>pixel779</th>\n",
       "      <th>pixel780</th>\n",
       "      <th>pixel781</th>\n",
       "      <th>pixel782</th>\n",
       "      <th>pixel783</th>\n",
       "    </tr>\n",
       "  </thead>\n",
       "  <tbody>\n",
       "    <tr>\n",
       "      <th>0</th>\n",
       "      <td>0</td>\n",
       "      <td>0</td>\n",
       "      <td>0</td>\n",
       "      <td>0</td>\n",
       "      <td>0</td>\n",
       "      <td>0</td>\n",
       "      <td>0</td>\n",
       "      <td>0</td>\n",
       "      <td>0</td>\n",
       "      <td>0</td>\n",
       "      <td>...</td>\n",
       "      <td>0</td>\n",
       "      <td>0</td>\n",
       "      <td>0</td>\n",
       "      <td>0</td>\n",
       "      <td>0</td>\n",
       "      <td>0</td>\n",
       "      <td>0</td>\n",
       "      <td>0</td>\n",
       "      <td>0</td>\n",
       "      <td>0</td>\n",
       "    </tr>\n",
       "  </tbody>\n",
       "</table>\n",
       "<p>1 rows × 784 columns</p>\n",
       "</div>"
      ],
      "text/plain": [
       "   pixel0  pixel1  pixel2  pixel3  pixel4  pixel5  pixel6  pixel7  pixel8  \\\n",
       "0       0       0       0       0       0       0       0       0       0   \n",
       "\n",
       "   pixel9  ...  pixel774  pixel775  pixel776  pixel777  pixel778  pixel779  \\\n",
       "0       0  ...         0         0         0         0         0         0   \n",
       "\n",
       "   pixel780  pixel781  pixel782  pixel783  \n",
       "0         0         0         0         0  \n",
       "\n",
       "[1 rows x 784 columns]"
      ]
     },
     "execution_count": 9,
     "metadata": {},
     "output_type": "execute_result"
    }
   ],
   "source": [
    "X_train.head(1)"
   ]
  },
  {
   "cell_type": "code",
   "execution_count": 10,
   "id": "9efb0a74",
   "metadata": {
    "execution": {
     "iopub.execute_input": "2023-03-25T18:54:06.176513Z",
     "iopub.status.busy": "2023-03-25T18:54:06.176192Z",
     "iopub.status.idle": "2023-03-25T18:54:06.184692Z",
     "shell.execute_reply": "2023-03-25T18:54:06.183512Z"
    },
    "papermill": {
     "duration": 0.02159,
     "end_time": "2023-03-25T18:54:06.186793",
     "exception": false,
     "start_time": "2023-03-25T18:54:06.165203",
     "status": "completed"
    },
    "tags": []
   },
   "outputs": [
    {
     "data": {
      "text/plain": [
       "0    1.0\n",
       "1    0.0\n",
       "2    1.0\n",
       "3    4.0\n",
       "4    0.0\n",
       "Name: label, dtype: float32"
      ]
     },
     "execution_count": 10,
     "metadata": {},
     "output_type": "execute_result"
    }
   ],
   "source": [
    "y_train.head()"
   ]
  },
  {
   "cell_type": "code",
   "execution_count": 11,
   "id": "f57f9f33",
   "metadata": {
    "execution": {
     "iopub.execute_input": "2023-03-25T18:54:06.208506Z",
     "iopub.status.busy": "2023-03-25T18:54:06.208113Z",
     "iopub.status.idle": "2023-03-25T18:54:06.220330Z",
     "shell.execute_reply": "2023-03-25T18:54:06.218888Z"
    },
    "papermill": {
     "duration": 0.026117,
     "end_time": "2023-03-25T18:54:06.222925",
     "exception": false,
     "start_time": "2023-03-25T18:54:06.196808",
     "status": "completed"
    },
    "tags": []
   },
   "outputs": [
    {
     "data": {
      "text/plain": [
       "1    4684\n",
       "7    4401\n",
       "3    4351\n",
       "9    4188\n",
       "2    4177\n",
       "6    4137\n",
       "0    4132\n",
       "4    4072\n",
       "8    4063\n",
       "5    3795\n",
       "Name: label, dtype: int64"
      ]
     },
     "execution_count": 11,
     "metadata": {},
     "output_type": "execute_result"
    }
   ],
   "source": [
    "# frequency of each digit in the dataset\n",
    "train['label'].value_counts()"
   ]
  },
  {
   "cell_type": "code",
   "execution_count": 12,
   "id": "81af7a72",
   "metadata": {
    "execution": {
     "iopub.execute_input": "2023-03-25T18:54:06.244723Z",
     "iopub.status.busy": "2023-03-25T18:54:06.244312Z",
     "iopub.status.idle": "2023-03-25T18:54:06.445488Z",
     "shell.execute_reply": "2023-03-25T18:54:06.444515Z"
    },
    "papermill": {
     "duration": 0.214332,
     "end_time": "2023-03-25T18:54:06.447398",
     "exception": false,
     "start_time": "2023-03-25T18:54:06.233066",
     "status": "completed"
    },
    "tags": []
   },
   "outputs": [
    {
     "data": {
      "image/png": "[encoded data removed]",
      "text/plain": [
       "<Figure size 640x480 with 1 Axes>"
      ]
     },
     "metadata": {},
     "output_type": "display_data"
    }
   ],
   "source": [
    "sns.countplot(x='label', data=train);"
   ]
  },
  {
   "cell_type": "code",
   "execution_count": 13,
   "id": "02b05316",
   "metadata": {
    "execution": {
     "iopub.execute_input": "2023-03-25T18:54:06.470253Z",
     "iopub.status.busy": "2023-03-25T18:54:06.469339Z",
     "iopub.status.idle": "2023-03-25T18:54:06.546350Z",
     "shell.execute_reply": "2023-03-25T18:54:06.545532Z"
    },
    "papermill": {
     "duration": 0.090433,
     "end_time": "2023-03-25T18:54:06.548269",
     "exception": false,
     "start_time": "2023-03-25T18:54:06.457836",
     "status": "completed"
    },
    "tags": []
   },
   "outputs": [
    {
     "data": {
      "text/plain": [
       "((42000, 28, 28, 1), (28000, 28, 28, 1))"
      ]
     },
     "execution_count": 13,
     "metadata": {},
     "output_type": "execute_result"
    }
   ],
   "source": [
    "# Data Normalisation\n",
    "X_train = X_train/255\n",
    "X_test = X_test/255\n",
    "# Reshaping\n",
    "Train= X_train.values.reshape(-1, 28, 28, 1)\n",
    "Test = X_test.values.reshape(-1, 28, 28, 1)\n",
    "Train.shape, Test.shape"
   ]
  },
  {
   "cell_type": "code",
   "execution_count": 14,
   "id": "bdad59e1",
   "metadata": {
    "execution": {
     "iopub.execute_input": "2023-03-25T18:54:06.570600Z",
     "iopub.status.busy": "2023-03-25T18:54:06.570032Z",
     "iopub.status.idle": "2023-03-25T18:54:07.375382Z",
     "shell.execute_reply": "2023-03-25T18:54:07.374489Z"
    },
    "papermill": {
     "duration": 0.819578,
     "end_time": "2023-03-25T18:54:07.378018",
     "exception": false,
     "start_time": "2023-03-25T18:54:06.558440",
     "status": "completed"
    },
    "tags": []
   },
   "outputs": [
    {
     "data": {
      "image/png": "[encoded data removed]",
      "text/plain": [
       "<Figure size 1200x800 with 30 Axes>"
      ]
     },
     "metadata": {},
     "output_type": "display_data"
    }
   ],
   "source": [
    "plt.figure(figsize=(12,8))\n",
    "for i in range(30):\n",
    "    plt.subplot(6,10,i+1)\n",
    "    plt.imshow(Train[i].reshape((28,28)))\n",
    "    plt.axis(\"off\")\n",
    "plt.show()"
   ]
  },
  {
   "cell_type": "code",
   "execution_count": 15,
   "id": "4e0e4dfc",
   "metadata": {
    "execution": {
     "iopub.execute_input": "2023-03-25T18:54:07.403309Z",
     "iopub.status.busy": "2023-03-25T18:54:07.402314Z",
     "iopub.status.idle": "2023-03-25T18:54:14.263376Z",
     "shell.execute_reply": "2023-03-25T18:54:14.261889Z"
    },
    "papermill": {
     "duration": 6.87583,
     "end_time": "2023-03-25T18:54:14.265438",
     "exception": false,
     "start_time": "2023-03-25T18:54:07.389608",
     "status": "completed"
    },
    "tags": []
   },
   "outputs": [
    {
     "name": "stdout",
     "output_type": "stream",
     "text": [
      "Before applying the function\n",
      "0        1\n",
      "1        0\n",
      "2        1\n",
      "3        4\n",
      "4        0\n",
      "        ..\n",
      "41995    0\n",
      "41996    1\n",
      "41997    7\n",
      "41998    6\n",
      "41999    9\n",
      "Name: label, Length: 42000, dtype: int64\n",
      "After applying the function\n",
      "[[0. 1. 0. ... 0. 0. 0.]\n",
      " [1. 0. 0. ... 0. 0. 0.]\n",
      " [0. 1. 0. ... 0. 0. 0.]\n",
      " ...\n",
      " [0. 0. 0. ... 1. 0. 0.]\n",
      " [0. 0. 0. ... 0. 0. 0.]\n",
      " [0. 0. 0. ... 0. 0. 1.]]\n",
      "(42000, 10)\n"
     ]
    }
   ],
   "source": [
    "# to_categorical function returns a matrix of binary values\n",
    "# It has number of rows equal to the length of the input vector and number of \n",
    "# columns equal to the number of classes.\n",
    "from keras.utils.np_utils import to_categorical\n",
    "target = to_categorical(train['label'],num_classes=10)\n",
    "print(\"Before applying the function\")\n",
    "print(train['label'])\n",
    "print(\"After applying the function\")\n",
    "print(target)\n",
    "print(target.shape)"
   ]
  },
  {
   "cell_type": "code",
   "execution_count": 16,
   "id": "d8638ef4",
   "metadata": {
    "execution": {
     "iopub.execute_input": "2023-03-25T18:54:14.291871Z",
     "iopub.status.busy": "2023-03-25T18:54:14.291248Z",
     "iopub.status.idle": "2023-03-25T18:54:14.358488Z",
     "shell.execute_reply": "2023-03-25T18:54:14.356960Z"
    },
    "papermill": {
     "duration": 0.083981,
     "end_time": "2023-03-25T18:54:14.361081",
     "exception": false,
     "start_time": "2023-03-25T18:54:14.277100",
     "status": "completed"
    },
    "tags": []
   },
   "outputs": [],
   "source": [
    "#Data augmentation\n",
    "from keras.preprocessing.image import ImageDataGenerator\n",
    "datagen = ImageDataGenerator(\n",
    "        rotation_range=15,\n",
    "        zoom_range = 0.15,\n",
    "        width_shift_range=0.15,\n",
    "        height_shift_range=0.15)\n",
    "\n",
    "datagen.fit(Train)"
   ]
  },
  {
   "cell_type": "code",
   "execution_count": 17,
   "id": "b2fd7318",
   "metadata": {
    "execution": {
     "iopub.execute_input": "2023-03-25T18:54:14.386189Z",
     "iopub.status.busy": "2023-03-25T18:54:14.385847Z",
     "iopub.status.idle": "2023-03-25T18:54:14.803879Z",
     "shell.execute_reply": "2023-03-25T18:54:14.802750Z"
    },
    "papermill": {
     "duration": 0.433584,
     "end_time": "2023-03-25T18:54:14.806489",
     "exception": false,
     "start_time": "2023-03-25T18:54:14.372905",
     "status": "completed"
    },
    "tags": []
   },
   "outputs": [],
   "source": [
    "from sklearn.model_selection import train_test_split              #splitting the Train and target datasets into training and validation sets.\n",
    "x_train, x_val, y_train, y_val=train_test_split(Train, target, \n",
    "                                            test_size=0.2, random_state=11)  #20% of dataset is used for the validation"
   ]
  },
  {
   "cell_type": "code",
   "execution_count": 18,
   "id": "3d92eb7b",
   "metadata": {
    "execution": {
     "iopub.execute_input": "2023-03-25T18:54:14.833150Z",
     "iopub.status.busy": "2023-03-25T18:54:14.832805Z",
     "iopub.status.idle": "2023-03-25T18:54:14.838907Z",
     "shell.execute_reply": "2023-03-25T18:54:14.837745Z"
    },
    "papermill": {
     "duration": 0.023197,
     "end_time": "2023-03-25T18:54:14.842525",
     "exception": false,
     "start_time": "2023-03-25T18:54:14.819328",
     "status": "completed"
    },
    "tags": []
   },
   "outputs": [
    {
     "name": "stdout",
     "output_type": "stream",
     "text": [
      "(33600, 28, 28, 1) (8400, 28, 28, 1) (33600, 10) (8400, 10)\n"
     ]
    }
   ],
   "source": [
    "print(x_train.shape,x_val.shape,y_train.shape,y_val.shape)"
   ]
  },
  {
   "cell_type": "code",
   "execution_count": 19,
   "id": "7db14b7b",
   "metadata": {
    "execution": {
     "iopub.execute_input": "2023-03-25T18:54:14.869191Z",
     "iopub.status.busy": "2023-03-25T18:54:14.868797Z",
     "iopub.status.idle": "2023-03-25T18:54:14.874542Z",
     "shell.execute_reply": "2023-03-25T18:54:14.873711Z"
    },
    "papermill": {
     "duration": 0.021593,
     "end_time": "2023-03-25T18:54:14.876804",
     "exception": false,
     "start_time": "2023-03-25T18:54:14.855211",
     "status": "completed"
    },
    "tags": []
   },
   "outputs": [],
   "source": [
    "#imports the necessary libraries for building a deep learning model using Keras with TensorFlow backend.\n",
    "import tensorflow as tf\n",
    "from tensorflow import keras\n",
    "from keras.models import  Sequential\n",
    "from keras.layers import  Lambda , Dense, Flatten, Dropout,Dense,Conv2D\n",
    "from keras.callbacks import EarlyStopping\n",
    "from keras.layers import BatchNormalization, Convolution2D , MaxPooling2D"
   ]
  },
  {
   "cell_type": "markdown",
   "id": "1e1103ab",
   "metadata": {
    "papermill": {
     "duration": 0.01182,
     "end_time": "2023-03-25T18:54:14.900783",
     "exception": false,
     "start_time": "2023-03-25T18:54:14.888963",
     "status": "completed"
    },
    "tags": []
   },
   "source": [
    "Sequential model is used when each layer has exactly one input and one output tensor\n",
    "Convolutional filters help in extracting specific features from input data"
   ]
  },
  {
   "cell_type": "markdown",
   "id": "d1e16e0a",
   "metadata": {
    "papermill": {
     "duration": 0.011373,
     "end_time": "2023-03-25T18:54:14.924257",
     "exception": false,
     "start_time": "2023-03-25T18:54:14.912884",
     "status": "completed"
    },
    "tags": []
   },
   "source": [
    "Conv2D: This layer performs a convolution operation on the input image, using 16 filters of size 3x3. It uses the ReLU activation function and adds padding to ensure the output has the same dimensions as the input."
   ]
  },
  {
   "cell_type": "markdown",
   "id": "ae6eabd6",
   "metadata": {
    "papermill": {
     "duration": 0.011229,
     "end_time": "2023-03-25T18:54:14.947000",
     "exception": false,
     "start_time": "2023-03-25T18:54:14.935771",
     "status": "completed"
    },
    "tags": []
   },
   "source": [
    "BatchNormalization: This layer normalizes the output of the previous layer to ensure that the activations are within a certain range and helps the model converge faster."
   ]
  },
  {
   "cell_type": "markdown",
   "id": "446f756e",
   "metadata": {
    "papermill": {
     "duration": 0.011107,
     "end_time": "2023-03-25T18:54:14.969550",
     "exception": false,
     "start_time": "2023-03-25T18:54:14.958443",
     "status": "completed"
    },
    "tags": []
   },
   "source": [
    "MaxPooling2D: This layer reduces the spatial dimensions of the output by performing max pooling operation with a 2x2 filter."
   ]
  },
  {
   "cell_type": "markdown",
   "id": "50f92aa9",
   "metadata": {
    "papermill": {
     "duration": 0.011174,
     "end_time": "2023-03-25T18:54:14.992161",
     "exception": false,
     "start_time": "2023-03-25T18:54:14.980987",
     "status": "completed"
    },
    "tags": []
   },
   "source": [
    "Dropout Layer:\n",
    "        Dropout is a regularization technique that randomly ignores a proportion of nodes in the layer during training, forcing the network to learn features in a distributed way.\n",
    "        In this model, I have used Dropout layer to reduce overfitting and improve generalization.\n",
    "        The proportion of nodes to drop can be set using a dropout rate hyperparameter."
   ]
  },
  {
   "cell_type": "markdown",
   "id": "63ed503f",
   "metadata": {
    "papermill": {
     "duration": 0.011131,
     "end_time": "2023-03-25T18:54:15.014832",
     "exception": false,
     "start_time": "2023-03-25T18:54:15.003701",
     "status": "completed"
    },
    "tags": []
   },
   "source": [
    "Flatten: This layer flattens the output of the previous layer into a 1-dimensional vector that can be fed into a fully connected layer."
   ]
  },
  {
   "cell_type": "markdown",
   "id": "d068652c",
   "metadata": {
    "papermill": {
     "duration": 0.011094,
     "end_time": "2023-03-25T18:54:15.037478",
     "exception": false,
     "start_time": "2023-03-25T18:54:15.026384",
     "status": "completed"
    },
    "tags": []
   },
   "source": [
    "Dense: This layer is a fully connected layer with 64 units and the ReLU activation function. It also includes L2 regularization to prevent overfitting."
   ]
  },
  {
   "cell_type": "code",
   "execution_count": 20,
   "id": "2c6586a9",
   "metadata": {
    "execution": {
     "iopub.execute_input": "2023-03-25T18:54:15.062725Z",
     "iopub.status.busy": "2023-03-25T18:54:15.061587Z",
     "iopub.status.idle": "2023-03-25T18:54:15.613334Z",
     "shell.execute_reply": "2023-03-25T18:54:15.612648Z"
    },
    "papermill": {
     "duration": 0.566864,
     "end_time": "2023-03-25T18:54:15.615801",
     "exception": false,
     "start_time": "2023-03-25T18:54:15.048937",
     "status": "completed"
    },
    "tags": []
   },
   "outputs": [],
   "source": [
    "# CNN model is designed to classify input images into one of 10 classes, \n",
    "# using a combination of convolutional and fully connected layers to extract and transform the input data before producing the final output.\n",
    "model=Sequential()\n",
    "model.add(Conv2D(filters=16, kernel_size=(3,3),padding='same', \n",
    "                 activation='relu', input_shape=(28,28,1)))\n",
    "model.add(BatchNormalization())\n",
    "model.add(MaxPooling2D(2,2))\n",
    "\n",
    "model.add(Conv2D(filters=32, kernel_size=(3,3),padding='same',\n",
    "                 activation='relu'))\n",
    "model.add(BatchNormalization())\n",
    "model.add(MaxPooling2D(2,2))\n",
    "\n",
    "model.add(Conv2D(filters=64, kernel_size=(3,3),padding='same',\n",
    "                 activation='relu'))\n",
    "model.add(BatchNormalization())\n",
    "model.add(MaxPooling2D(2,2))\n",
    "model.add(Dropout(0.2))\n",
    "\n",
    "model.add(Flatten())\n",
    "model.add(Dense(64, activation='relu',kernel_regularizer=keras.regularizers.l2(0.01)))\n",
    "model.add(Dropout(0.5))\n",
    "model.add(Dense(64, activation='relu',kernel_regularizer=keras.regularizers.l2(0.01)))\n",
    "model.add(Dropout(0.5))\n",
    "\n",
    "model.add(Dense(10, activation='softmax'))"
   ]
  },
  {
   "cell_type": "code",
   "execution_count": 21,
   "id": "d7e01f13",
   "metadata": {
    "execution": {
     "iopub.execute_input": "2023-03-25T18:54:15.640899Z",
     "iopub.status.busy": "2023-03-25T18:54:15.640572Z",
     "iopub.status.idle": "2023-03-25T18:54:15.699797Z",
     "shell.execute_reply": "2023-03-25T18:54:15.698301Z"
    },
    "papermill": {
     "duration": 0.074798,
     "end_time": "2023-03-25T18:54:15.702582",
     "exception": false,
     "start_time": "2023-03-25T18:54:15.627784",
     "status": "completed"
    },
    "tags": []
   },
   "outputs": [
    {
     "name": "stdout",
     "output_type": "stream",
     "text": [
      "Model: \"sequential\"\n",
      "_________________________________________________________________\n",
      " Layer (type)                Output Shape              Param #   \n",
      "=================================================================\n",
      " conv2d (Conv2D)             (None, 28, 28, 16)        160       \n",
      "                                                                 \n",
      " batch_normalization (BatchN  (None, 28, 28, 16)       64        \n",
      " ormalization)                                                   \n",
      "                                                                 \n",
      " max_pooling2d (MaxPooling2D  (None, 14, 14, 16)       0         \n",
      " )                                                               \n",
      "                                                                 \n",
      " conv2d_1 (Conv2D)           (None, 14, 14, 32)        4640      \n",
      "                                                                 \n",
      " batch_normalization_1 (Batc  (None, 14, 14, 32)       128       \n",
      " hNormalization)                                                 \n",
      "                                                                 \n",
      " max_pooling2d_1 (MaxPooling  (None, 7, 7, 32)         0         \n",
      " 2D)                                                             \n",
      "                                                                 \n",
      " conv2d_2 (Conv2D)           (None, 7, 7, 64)          18496     \n",
      "                                                                 \n",
      " batch_normalization_2 (Batc  (None, 7, 7, 64)         256       \n",
      " hNormalization)                                                 \n",
      "                                                                 \n",
      " max_pooling2d_2 (MaxPooling  (None, 3, 3, 64)         0         \n",
      " 2D)                                                             \n",
      "                                                                 \n",
      " dropout (Dropout)           (None, 3, 3, 64)          0         \n",
      "                                                                 \n",
      " flatten (Flatten)           (None, 576)               0         \n",
      "                                                                 \n",
      " dense (Dense)               (None, 64)                36928     \n",
      "                                                                 \n",
      " dropout_1 (Dropout)         (None, 64)                0         \n",
      "                                                                 \n",
      " dense_1 (Dense)             (None, 64)                4160      \n",
      "                                                                 \n",
      " dropout_2 (Dropout)         (None, 64)                0         \n",
      "                                                                 \n",
      " dense_2 (Dense)             (None, 10)                650       \n",
      "                                                                 \n",
      "=================================================================\n",
      "Total params: 65,482\n",
      "Trainable params: 65,258\n",
      "Non-trainable params: 224\n",
      "_________________________________________________________________\n"
     ]
    }
   ],
   "source": [
    "model.summary()"
   ]
  },
  {
   "cell_type": "code",
   "execution_count": 22,
   "id": "263e0ca4",
   "metadata": {
    "execution": {
     "iopub.execute_input": "2023-03-25T18:54:15.732803Z",
     "iopub.status.busy": "2023-03-25T18:54:15.732405Z",
     "iopub.status.idle": "2023-03-25T18:54:15.747325Z",
     "shell.execute_reply": "2023-03-25T18:54:15.746399Z"
    },
    "papermill": {
     "duration": 0.032438,
     "end_time": "2023-03-25T18:54:15.749394",
     "exception": false,
     "start_time": "2023-03-25T18:54:15.716956",
     "status": "completed"
    },
    "tags": []
   },
   "outputs": [],
   "source": [
    "model.compile(optimizer='rmsprop', loss='categorical_crossentropy', metrics=['accuracy'])    #to compile the model before training."
   ]
  },
  {
   "cell_type": "code",
   "execution_count": 23,
   "id": "d7cd5c7a",
   "metadata": {
    "execution": {
     "iopub.execute_input": "2023-03-25T18:54:15.779365Z",
     "iopub.status.busy": "2023-03-25T18:54:15.778994Z",
     "iopub.status.idle": "2023-03-25T19:01:38.646436Z",
     "shell.execute_reply": "2023-03-25T19:01:38.644861Z"
    },
    "papermill": {
     "duration": 442.884961,
     "end_time": "2023-03-25T19:01:38.648666",
     "exception": false,
     "start_time": "2023-03-25T18:54:15.763705",
     "status": "completed"
    },
    "tags": []
   },
   "outputs": [
    {
     "name": "stdout",
     "output_type": "stream",
     "text": [
      "Epoch 1/30\n",
      "262/262 [==============================] - 18s 65ms/step - loss: 2.2892 - accuracy: 0.4810 - val_loss: 5.0337 - val_accuracy: 0.1440\n",
      "Epoch 2/30\n",
      "262/262 [==============================] - 17s 66ms/step - loss: 0.7592 - accuracy: 0.8637 - val_loss: 0.4557 - val_accuracy: 0.9333\n",
      "Epoch 3/30\n",
      "262/262 [==============================] - 17s 64ms/step - loss: 0.4906 - accuracy: 0.9174 - val_loss: 0.2275 - val_accuracy: 0.9761\n",
      "Epoch 4/30\n",
      "262/262 [==============================] - 17s 64ms/step - loss: 0.3866 - accuracy: 0.9336 - val_loss: 0.1898 - val_accuracy: 0.9818\n",
      "Epoch 5/30\n",
      "262/262 [==============================] - 18s 67ms/step - loss: 0.3359 - accuracy: 0.9403 - val_loss: 0.1730 - val_accuracy: 0.9823\n",
      "Epoch 6/30\n",
      "262/262 [==============================] - 16s 63ms/step - loss: 0.3157 - accuracy: 0.9456 - val_loss: 0.1696 - val_accuracy: 0.9835\n",
      "Epoch 7/30\n",
      "262/262 [==============================] - 17s 64ms/step - loss: 0.2921 - accuracy: 0.9499 - val_loss: 0.1512 - val_accuracy: 0.9855\n",
      "Epoch 8/30\n",
      "262/262 [==============================] - 16s 62ms/step - loss: 0.2805 - accuracy: 0.9510 - val_loss: 0.1437 - val_accuracy: 0.9869\n",
      "Epoch 9/30\n",
      "262/262 [==============================] - 18s 67ms/step - loss: 0.2705 - accuracy: 0.9534 - val_loss: 0.1506 - val_accuracy: 0.9858\n",
      "Epoch 10/30\n",
      "262/262 [==============================] - 17s 63ms/step - loss: 0.2553 - accuracy: 0.9564 - val_loss: 0.1418 - val_accuracy: 0.9851\n",
      "Epoch 11/30\n",
      "262/262 [==============================] - 16s 62ms/step - loss: 0.2438 - accuracy: 0.9585 - val_loss: 0.1372 - val_accuracy: 0.9865\n",
      "Epoch 12/30\n",
      "262/262 [==============================] - 16s 63ms/step - loss: 0.2452 - accuracy: 0.9582 - val_loss: 0.1486 - val_accuracy: 0.9836\n",
      "Epoch 13/30\n",
      "262/262 [==============================] - 16s 61ms/step - loss: 0.2389 - accuracy: 0.9588 - val_loss: 0.1426 - val_accuracy: 0.9838\n",
      "Epoch 14/30\n",
      "262/262 [==============================] - 16s 62ms/step - loss: 0.2275 - accuracy: 0.9615 - val_loss: 0.1454 - val_accuracy: 0.9846\n",
      "Epoch 15/30\n",
      "262/262 [==============================] - 16s 62ms/step - loss: 0.2305 - accuracy: 0.9604 - val_loss: 0.1285 - val_accuracy: 0.9864\n",
      "Epoch 16/30\n",
      "262/262 [==============================] - 16s 62ms/step - loss: 0.2208 - accuracy: 0.9628 - val_loss: 0.1292 - val_accuracy: 0.9881\n",
      "Epoch 17/30\n",
      "262/262 [==============================] - 16s 62ms/step - loss: 0.2200 - accuracy: 0.9634 - val_loss: 0.1293 - val_accuracy: 0.9879\n",
      "Epoch 18/30\n",
      "262/262 [==============================] - 16s 62ms/step - loss: 0.2156 - accuracy: 0.9641 - val_loss: 0.1228 - val_accuracy: 0.9870\n",
      "Epoch 19/30\n",
      "262/262 [==============================] - 16s 62ms/step - loss: 0.2101 - accuracy: 0.9648 - val_loss: 0.1299 - val_accuracy: 0.9867\n",
      "Epoch 20/30\n",
      "262/262 [==============================] - 16s 60ms/step - loss: 0.2123 - accuracy: 0.9640 - val_loss: 0.1659 - val_accuracy: 0.9802\n",
      "Epoch 21/30\n",
      "262/262 [==============================] - 17s 63ms/step - loss: 0.2125 - accuracy: 0.9640 - val_loss: 0.1497 - val_accuracy: 0.9854\n",
      "Epoch 22/30\n",
      "262/262 [==============================] - 17s 63ms/step - loss: 0.2071 - accuracy: 0.9660 - val_loss: 0.1285 - val_accuracy: 0.9893\n",
      "Epoch 23/30\n",
      "262/262 [==============================] - 17s 66ms/step - loss: 0.2071 - accuracy: 0.9661 - val_loss: 0.1316 - val_accuracy: 0.9869\n"
     ]
    }
   ],
   "source": [
    "history = model.fit(datagen.flow(x_train,y_train, batch_size=128),           #generates augmented images in real-time of number of samples equal to batch size in one training.\n",
    "                                epochs = 30,validation_data = (x_val,y_val),  #The number of epochs (iterations over the entire training set) to be used during training.\n",
    "                                 steps_per_epoch=len(x_train)/128,verbose=1,\n",
    "                                 callbacks=keras.callbacks.EarlyStopping(monitor='val_loss',patience=5))  #to stop the training process if the validation loss does not improve for 5 consecutive epochs."
   ]
  },
  {
   "cell_type": "code",
   "execution_count": 24,
   "id": "ff465e6b",
   "metadata": {
    "execution": {
     "iopub.execute_input": "2023-03-25T19:01:39.357024Z",
     "iopub.status.busy": "2023-03-25T19:01:39.356705Z",
     "iopub.status.idle": "2023-03-25T19:01:42.086362Z",
     "shell.execute_reply": "2023-03-25T19:01:42.084860Z"
    },
    "papermill": {
     "duration": 3.086655,
     "end_time": "2023-03-25T19:01:42.088974",
     "exception": false,
     "start_time": "2023-03-25T19:01:39.002319",
     "status": "completed"
    },
    "tags": []
   },
   "outputs": [
    {
     "name": "stdout",
     "output_type": "stream",
     "text": [
      "263/263 [==============================] - 2s 6ms/step\n"
     ]
    }
   ],
   "source": [
    "predicted=model.predict(x_val)"
   ]
  },
  {
   "cell_type": "code",
   "execution_count": 25,
   "id": "6e457498",
   "metadata": {
    "execution": {
     "iopub.execute_input": "2023-03-25T19:01:42.854825Z",
     "iopub.status.busy": "2023-03-25T19:01:42.854404Z",
     "iopub.status.idle": "2023-03-25T19:01:43.040226Z",
     "shell.execute_reply": "2023-03-25T19:01:43.039517Z"
    },
    "papermill": {
     "duration": 0.5951,
     "end_time": "2023-03-25T19:01:43.042025",
     "exception": false,
     "start_time": "2023-03-25T19:01:42.446925",
     "status": "completed"
    },
    "tags": []
   },
   "outputs": [
    {
     "data": {
      "text/plain": [
       "<matplotlib.legend.Legend at 0x7fa6c82dc5d0>"
      ]
     },
     "execution_count": 25,
     "metadata": {},
     "output_type": "execute_result"
    },
    {
     "data": {
      "image/png": "[encoded data removed]",
      "text/plain": [
       "<Figure size 640x480 with 1 Axes>"
      ]
     },
     "metadata": {},
     "output_type": "display_data"
    }
   ],
   "source": [
    "plt.xlabel('Epoch')                   #sets the x-axis label for the subplot to \"Epoch\".\n",
    "plt.ylabel('Loss')                    #sets the y-axis label for the subplot to \"Loss\".\n",
    "plt.title(' Loss vs. Epoch',weight='bold', fontsize=10)    #sets the title of the subplot to \"Loss vs. Epoch\" and specifies the font weight and size.\n",
    "train_loss = history.history['loss']                       #extracts the training loss values from the model's history object and assigns them to the train_loss variable.\n",
    "test_loss = history.history['val_loss']                    #extracts the validation loss values from the model's history object and assigns them to the test_loss variable.\n",
    "x = list(range(1, len(test_loss) + 1))                     #creates a list of integers from 1 to the number of validation loss values, which will be used as the x-axis values in the plot.\n",
    "plt.plot(x, test_loss, color = 'purple', label = 'Test loss')   #plots the validation loss values against the epoch values using a purple line and adds a label to the plot legend.\n",
    "plt.plot(x, train_loss,color='cyan', label = 'Training loss')   #plots the training loss values against the epoch values using a cyan line and adds a label to the plot legend.\n",
    "plt.legend()                   #adds a legend to the plot."
   ]
  },
  {
   "cell_type": "code",
   "execution_count": 26,
   "id": "48526663",
   "metadata": {
    "execution": {
     "iopub.execute_input": "2023-03-25T19:01:43.760091Z",
     "iopub.status.busy": "2023-03-25T19:01:43.759704Z",
     "iopub.status.idle": "2023-03-25T19:01:43.915979Z",
     "shell.execute_reply": "2023-03-25T19:01:43.915001Z"
    },
    "papermill": {
     "duration": 0.517944,
     "end_time": "2023-03-25T19:01:43.917999",
     "exception": false,
     "start_time": "2023-03-25T19:01:43.400055",
     "status": "completed"
    },
    "tags": []
   },
   "outputs": [
    {
     "data": {
      "image/png": "[encoded data removed]",
      "text/plain": [
       "<Figure size 640x480 with 1 Axes>"
      ]
     },
     "metadata": {},
     "output_type": "display_data"
    }
   ],
   "source": [
    "plt.xlabel('Epoch')\n",
    "plt.ylabel('Accuracy')\n",
    "plt.title(' Accuracy vs. Epoch', weight='bold', fontsize=10) \n",
    "train_acc = history.history['accuracy']\n",
    "test_acc = history.history['val_accuracy']\n",
    "x = list(range(1, len(test_acc) + 1))\n",
    "plt.plot(x, test_acc, color = 'purple', label = 'Test accuracy')\n",
    "plt.plot(x, train_acc, color= 'cyan',label = 'Training accuracy')\n",
    "plt.legend() \n",
    "\n",
    "plt.show()"
   ]
  },
  {
   "cell_type": "code",
   "execution_count": 27,
   "id": "43ce7725",
   "metadata": {
    "execution": {
     "iopub.execute_input": "2023-03-25T19:01:44.684635Z",
     "iopub.status.busy": "2023-03-25T19:01:44.683999Z",
     "iopub.status.idle": "2023-03-25T19:01:44.692051Z",
     "shell.execute_reply": "2023-03-25T19:01:44.690989Z"
    },
    "papermill": {
     "duration": 0.42069,
     "end_time": "2023-03-25T19:01:44.694310",
     "exception": false,
     "start_time": "2023-03-25T19:01:44.273620",
     "status": "completed"
    },
    "tags": []
   },
   "outputs": [
    {
     "name": "stdout",
     "output_type": "stream",
     "text": [
      "Maximum accuracy: 0.9660714268684387\n",
      "Minimum loss: 0.20706236362457275\n",
      "Minimum validation loss: 0.12275989353656769\n",
      "Maximum validation accuracy: 0.9892857074737549\n"
     ]
    }
   ],
   "source": [
    "history_df = pd.DataFrame(history.history) \n",
    "print(\"Maximum accuracy: {}\".format(history_df['accuracy'].max()))\n",
    "print(\"Minimum loss: {}\".format(history_df['loss'].min()))\n",
    "print(\"Minimum validation loss: {}\".format(history_df['val_loss'].min()))\n",
    "print(\"Maximum validation accuracy: {}\".format(history_df['val_accuracy'].max()))"
   ]
  },
  {
   "cell_type": "code",
   "execution_count": 28,
   "id": "8cf4a144",
   "metadata": {
    "execution": {
     "iopub.execute_input": "2023-03-25T19:01:45.408931Z",
     "iopub.status.busy": "2023-03-25T19:01:45.408595Z",
     "iopub.status.idle": "2023-03-25T19:01:45.828439Z",
     "shell.execute_reply": "2023-03-25T19:01:45.827492Z"
    },
    "papermill": {
     "duration": 0.780424,
     "end_time": "2023-03-25T19:01:45.830413",
     "exception": false,
     "start_time": "2023-03-25T19:01:45.049989",
     "status": "completed"
    },
    "tags": []
   },
   "outputs": [
    {
     "data": {
      "image/png": "[encoded data removed]",
      "text/plain": [
       "<Figure size 500x500 with 1 Axes>"
      ]
     },
     "metadata": {},
     "output_type": "display_data"
    }
   ],
   "source": [
    "#Generating a confusion matrix which is a table that is often used to describe the performance of a classification model. \n",
    "#It shows the number of true positives, true negatives, false positives, and false negatives for each class in a multi-class classification problem.\n",
    "#The diagonal elements represent the correctly classified instances, and off-diagonal elements represent the misclassified instances. \n",
    "#The brightness of each square indicates the number of instances it contains.\n",
    "from sklearn.metrics import confusion_matrix,precision_score,recall_score,f1_score,accuracy_score\n",
    "y1 = np.argmax(predicted, axis = 1)\n",
    "y2 = np.argmax(y_val, axis = 1) \n",
    "c_matrix = confusion_matrix(y2,y1)\n",
    "\n",
    "fig, ax = plt.subplots(figsize=(5, 5))\n",
    "ax.matshow(c_matrix, cmap=plt.cm.Oranges, alpha=0.3)\n",
    "for i in range(c_matrix.shape[0]):\n",
    "    for j in range(c_matrix.shape[1]):\n",
    "        ax.text(x=j, y=i,s=c_matrix[i, j], va='center', ha='center', size='xx-large')\n",
    "plt.xlabel('Predictions', fontsize=18)\n",
    "plt.ylabel('Actuals', fontsize=18)\n",
    "plt.title('Confusion Matrix', fontsize=18)\n",
    "plt.show()"
   ]
  },
  {
   "cell_type": "code",
   "execution_count": 29,
   "id": "c4e94929",
   "metadata": {
    "execution": {
     "iopub.execute_input": "2023-03-25T19:01:46.600072Z",
     "iopub.status.busy": "2023-03-25T19:01:46.599116Z",
     "iopub.status.idle": "2023-03-25T19:01:46.609375Z",
     "shell.execute_reply": "2023-03-25T19:01:46.607522Z"
    },
    "papermill": {
     "duration": 0.424786,
     "end_time": "2023-03-25T19:01:46.611906",
     "exception": false,
     "start_time": "2023-03-25T19:01:46.187120",
     "status": "completed"
    },
    "tags": []
   },
   "outputs": [
    {
     "name": "stdout",
     "output_type": "stream",
     "text": [
      "Precision score: 0.986526803107051\n"
     ]
    }
   ],
   "source": [
    "precision = precision_score(y2, y1, average='macro')\n",
    "print('Precision score:', precision)"
   ]
  },
  {
   "cell_type": "code",
   "execution_count": 30,
   "id": "421d4abc",
   "metadata": {
    "execution": {
     "iopub.execute_input": "2023-03-25T19:01:47.331531Z",
     "iopub.status.busy": "2023-03-25T19:01:47.331185Z",
     "iopub.status.idle": "2023-03-25T19:01:47.340728Z",
     "shell.execute_reply": "2023-03-25T19:01:47.339891Z"
    },
    "papermill": {
     "duration": 0.370635,
     "end_time": "2023-03-25T19:01:47.342807",
     "exception": false,
     "start_time": "2023-03-25T19:01:46.972172",
     "status": "completed"
    },
    "tags": []
   },
   "outputs": [
    {
     "name": "stdout",
     "output_type": "stream",
     "text": [
      "F1 Score: 0.9866862745401447\n"
     ]
    }
   ],
   "source": [
    "f1score = f1_score(y2, y1, average='macro')\n",
    "print('F1 Score:', f1score)"
   ]
  },
  {
   "cell_type": "code",
   "execution_count": 31,
   "id": "5f707162",
   "metadata": {
    "execution": {
     "iopub.execute_input": "2023-03-25T19:01:48.124757Z",
     "iopub.status.busy": "2023-03-25T19:01:48.124372Z",
     "iopub.status.idle": "2023-03-25T19:01:48.132574Z",
     "shell.execute_reply": "2023-03-25T19:01:48.131835Z"
    },
    "papermill": {
     "duration": 0.378168,
     "end_time": "2023-03-25T19:01:48.134804",
     "exception": false,
     "start_time": "2023-03-25T19:01:47.756636",
     "status": "completed"
    },
    "tags": []
   },
   "outputs": [
    {
     "name": "stdout",
     "output_type": "stream",
     "text": [
      "recall Score: 0.9869747385849583\n"
     ]
    }
   ],
   "source": [
    "recallscore = recall_score(y2, y1, average='macro')\n",
    "print('recall Score:', recallscore)"
   ]
  },
  {
   "cell_type": "code",
   "execution_count": 32,
   "id": "76831235",
   "metadata": {
    "execution": {
     "iopub.execute_input": "2023-03-25T19:01:48.848084Z",
     "iopub.status.busy": "2023-03-25T19:01:48.846873Z",
     "iopub.status.idle": "2023-03-25T19:01:48.852805Z",
     "shell.execute_reply": "2023-03-25T19:01:48.851996Z"
    },
    "papermill": {
     "duration": 0.362686,
     "end_time": "2023-03-25T19:01:48.854737",
     "exception": false,
     "start_time": "2023-03-25T19:01:48.492051",
     "status": "completed"
    },
    "tags": []
   },
   "outputs": [
    {
     "name": "stdout",
     "output_type": "stream",
     "text": [
      "accuracy Score: 0.986904761904762\n"
     ]
    }
   ],
   "source": [
    "accuracyscore = accuracy_score(y2, y1)\n",
    "print('accuracy Score:', accuracyscore)"
   ]
  },
  {
   "cell_type": "code",
   "execution_count": 33,
   "id": "7e9c90d6",
   "metadata": {
    "execution": {
     "iopub.execute_input": "2023-03-25T19:01:49.569073Z",
     "iopub.status.busy": "2023-03-25T19:01:49.568385Z",
     "iopub.status.idle": "2023-03-25T19:01:55.967185Z",
     "shell.execute_reply": "2023-03-25T19:01:55.965789Z"
    },
    "papermill": {
     "duration": 6.759351,
     "end_time": "2023-03-25T19:01:55.969841",
     "exception": false,
     "start_time": "2023-03-25T19:01:49.210490",
     "status": "completed"
    },
    "tags": []
   },
   "outputs": [
    {
     "name": "stdout",
     "output_type": "stream",
     "text": [
      "875/875 [==============================] - 6s 7ms/step\n"
     ]
    }
   ],
   "source": [
    "y_test=model.predict(Test)"
   ]
  },
  {
   "cell_type": "code",
   "execution_count": 34,
   "id": "300da46a",
   "metadata": {
    "execution": {
     "iopub.execute_input": "2023-03-25T19:01:56.771726Z",
     "iopub.status.busy": "2023-03-25T19:01:56.771362Z",
     "iopub.status.idle": "2023-03-25T19:01:56.825718Z",
     "shell.execute_reply": "2023-03-25T19:01:56.824067Z"
    },
    "papermill": {
     "duration": 0.435637,
     "end_time": "2023-03-25T19:01:56.828288",
     "exception": false,
     "start_time": "2023-03-25T19:01:56.392651",
     "status": "completed"
    },
    "tags": []
   },
   "outputs": [
    {
     "name": "stdout",
     "output_type": "stream",
     "text": [
      "2 0 9 0 3 7 0 3 0 3 5 7 4 0 4 3 3 1 9 0 9 1 1 5 7 4 2 7 4 7 "
     ]
    }
   ],
   "source": [
    "y_test=[np.argmax(z) for z in y_test]    #converts the one-hot encoded labels in y_test to their corresponding class index \n",
    "for i in range(30):                      #and prints the class index of the first 10 samples in y_test.\n",
    "    print(y_test[i],end=\" \")"
   ]
  },
  {
   "cell_type": "code",
   "execution_count": 35,
   "id": "45ac2db8",
   "metadata": {
    "execution": {
     "iopub.execute_input": "2023-03-25T19:01:57.554111Z",
     "iopub.status.busy": "2023-03-25T19:01:57.553219Z",
     "iopub.status.idle": "2023-03-25T19:01:57.580218Z",
     "shell.execute_reply": "2023-03-25T19:01:57.579320Z"
    },
    "papermill": {
     "duration": 0.392645,
     "end_time": "2023-03-25T19:01:57.582372",
     "exception": false,
     "start_time": "2023-03-25T19:01:57.189727",
     "status": "completed"
    },
    "tags": []
   },
   "outputs": [
    {
     "data": {
      "text/html": [
       "<div>\n",
       "<style scoped>\n",
       "    .dataframe tbody tr th:only-of-type {\n",
       "        vertical-align: middle;\n",
       "    }\n",
       "\n",
       "    .dataframe tbody tr th {\n",
       "        vertical-align: top;\n",
       "    }\n",
       "\n",
       "    .dataframe thead th {\n",
       "        text-align: right;\n",
       "    }\n",
       "</style>\n",
       "<table border=\"1\" class=\"dataframe\">\n",
       "  <thead>\n",
       "    <tr style=\"text-align: right;\">\n",
       "      <th></th>\n",
       "      <th>ImageId</th>\n",
       "      <th>Label</th>\n",
       "    </tr>\n",
       "  </thead>\n",
       "  <tbody>\n",
       "    <tr>\n",
       "      <th>0</th>\n",
       "      <td>1</td>\n",
       "      <td>2</td>\n",
       "    </tr>\n",
       "    <tr>\n",
       "      <th>1</th>\n",
       "      <td>2</td>\n",
       "      <td>0</td>\n",
       "    </tr>\n",
       "    <tr>\n",
       "      <th>2</th>\n",
       "      <td>3</td>\n",
       "      <td>9</td>\n",
       "    </tr>\n",
       "    <tr>\n",
       "      <th>3</th>\n",
       "      <td>4</td>\n",
       "      <td>0</td>\n",
       "    </tr>\n",
       "    <tr>\n",
       "      <th>4</th>\n",
       "      <td>5</td>\n",
       "      <td>3</td>\n",
       "    </tr>\n",
       "    <tr>\n",
       "      <th>...</th>\n",
       "      <td>...</td>\n",
       "      <td>...</td>\n",
       "    </tr>\n",
       "    <tr>\n",
       "      <th>27995</th>\n",
       "      <td>27996</td>\n",
       "      <td>9</td>\n",
       "    </tr>\n",
       "    <tr>\n",
       "      <th>27996</th>\n",
       "      <td>27997</td>\n",
       "      <td>7</td>\n",
       "    </tr>\n",
       "    <tr>\n",
       "      <th>27997</th>\n",
       "      <td>27998</td>\n",
       "      <td>3</td>\n",
       "    </tr>\n",
       "    <tr>\n",
       "      <th>27998</th>\n",
       "      <td>27999</td>\n",
       "      <td>9</td>\n",
       "    </tr>\n",
       "    <tr>\n",
       "      <th>27999</th>\n",
       "      <td>28000</td>\n",
       "      <td>2</td>\n",
       "    </tr>\n",
       "  </tbody>\n",
       "</table>\n",
       "<p>28000 rows × 2 columns</p>\n",
       "</div>"
      ],
      "text/plain": [
       "       ImageId  Label\n",
       "0            1      2\n",
       "1            2      0\n",
       "2            3      9\n",
       "3            4      0\n",
       "4            5      3\n",
       "...        ...    ...\n",
       "27995    27996      9\n",
       "27996    27997      7\n",
       "27997    27998      3\n",
       "27998    27999      9\n",
       "27999    28000      2\n",
       "\n",
       "[28000 rows x 2 columns]"
      ]
     },
     "execution_count": 35,
     "metadata": {},
     "output_type": "execute_result"
    }
   ],
   "source": [
    "submission=pd.DataFrame({'ImageId':[i+1 for i in range(len(y_test))],'Label':y_test})\n",
    "submission        #creates a new Pandas DataFrame called submission that contains the predicted labels for the test set. \n",
    "                  #The ImageId column contains integers from 1 to the length of y_test, and the Label column contains the predicted class labels."
   ]
  }
 ],
 "metadata": {
  "kernelspec": {
   "display_name": "Python 3",
   "language": "python",
   "name": "python3"
  },
  "language_info": {
   "codemirror_mode": {
    "name": "ipython",
    "version": 3
   },
   "file_extension": ".py",
   "mimetype": "text/x-python",
   "name": "python",
   "nbconvert_exporter": "python",
   "pygments_lexer": "ipython3",
   "version": "3.7.12"
  },
  "papermill": {
   "default_parameters": {},
   "duration": 488.768363,
   "end_time": "2023-03-25T19:02:00.981511",
   "environment_variables": {},
   "exception": null,
   "input_path": "__notebook__.ipynb",
   "output_path": "__notebook__.ipynb",
   "parameters": {},
   "start_time": "2023-03-25T18:53:52.213148",
   "version": "2.4.0"
  }
 },
 "nbformat": 4,
 "nbformat_minor": 5
}
